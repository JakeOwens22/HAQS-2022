{
 "cells": [
  {
   "cell_type": "markdown",
   "id": "2b211f64-b8f3-471a-ab45-abe361ac2b6b",
   "metadata": {},
   "source": [
    "# QuSteam Challenge: Capgemini Submission"
   ]
  },
  {
   "cell_type": "code",
   "execution_count": null,
   "id": "e23ad8e8-583e-4006-8e7a-c4f64de68fa0",
   "metadata": {},
   "outputs": [],
   "source": []
  }
 ],
 "metadata": {
  "kernelspec": {
   "display_name": "Python 3 [HAQS-22]",
   "language": "python",
   "name": "python3_haqs_dk5kt8"
  },
  "language_info": {
   "codemirror_mode": {
    "name": "ipython",
    "version": 3
   },
   "file_extension": ".py",
   "mimetype": "text/x-python",
   "name": "python",
   "nbconvert_exporter": "python",
   "pygments_lexer": "ipython3",
   "version": "3.9.10"
  }
 },
 "nbformat": 4,
 "nbformat_minor": 5
}
